{
 "cells": [
  {
   "cell_type": "markdown",
   "id": "1da97bff-c113-4e22-84a5-c927ee276c6d",
   "metadata": {},
   "source": [
    "#Bài 1:Sử dụng Range(#begin,#end)"
   ]
  },
  {
   "cell_type": "code",
   "execution_count": 1,
   "id": "6e69839e-95e1-4c6a-bf2b-8df4873b62fb",
   "metadata": {},
   "outputs": [
    {
     "name": "stdout",
     "output_type": "stream",
     "text": [
      "2002,2009,2016,2023,2037,2044,2051,2058,2072,2079,2086,2093,2107,2114,2121,2128,2142,2149,2156,2163,2177,2184,2191,2198,2212,2219,2226,2233,2247,2254,2261,2268,2282,2289,2296,2303,2317,2324,2331,2338,2352,2359,2366,2373,2387,2394,2401,2408,2422,2429,2436,2443,2457,2464,2471,2478,2492,2499,2506,2513,2527,2534,2541,2548,2562,2569,2576,2583,2597,2604,2611,2618,2632,2639,2646,2653,2667,2674,2681,2688,2702,2709,2716,2723,2737,2744,2751,2758,2772,2779,2786,2793,2807,2814,2821,2828,2842,2849,2856,2863,2877,2884,2891,2898,2912,2919,2926,2933,2947,2954,2961,2968,2982,2989,2996,3003,3017,3024,3031,3038,3052,3059,3066,3073,3087,3094,3101,3108,3122,3129,3136,3143,3157,3164,3171,3178,3192,3199\n"
     ]
    }
   ],
   "source": [
    "j=[]\n",
    "for i in range(2000,3201):\n",
    "    if (i % 7 == 0) and (i % 5 != 0):\n",
    "        j.append(str(i))\n",
    "print(','.join(j))"
   ]
  },
  {
   "cell_type": "markdown",
   "id": "0c491796-7774-49fc-95c7-ab2b48c01be2",
   "metadata": {},
   "source": [
    "#Bài 2:"
   ]
  },
  {
   "cell_type": "code",
   "execution_count": 3,
   "id": "4a6cd3ba-9491-4d1d-b193-4da39ed984de",
   "metadata": {},
   "outputs": [
    {
     "name": "stdin",
     "output_type": "stream",
     "text": [
      "nhập số cần tính giai thừa: 5\n"
     ]
    },
    {
     "name": "stdout",
     "output_type": "stream",
     "text": [
      "120\n"
     ]
    }
   ],
   "source": [
    "x = int(input('nhập số cần tính giai thừa:'))\n",
    "def fact(x):\n",
    "    if x == 0:\n",
    "        return 1\n",
    "    return x * fact(x - 1)\n",
    "print(fact(x))"
   ]
  },
  {
   "cell_type": "markdown",
   "id": "ab9e0d98-996e-40e0-8d2b-6295048099f8",
   "metadata": {},
   "source": [
    "#Bài 3: viết lệnh yêu cầu nhập số nguyên n:"
   ]
  },
  {
   "cell_type": "code",
   "execution_count": 6,
   "id": "a72bca29-26bb-4f01-b5fd-7efb653b808e",
   "metadata": {},
   "outputs": [
    {
     "name": "stdin",
     "output_type": "stream",
     "text": [
      "nhập vào một số: 5\n"
     ]
    },
    {
     "name": "stdout",
     "output_type": "stream",
     "text": [
      "{1: 1, 2: 4, 3: 9, 4: 16, 5: 25}\n"
     ]
    }
   ],
   "source": [
    "n = int(input('nhập vào một số:'))\n",
    "d = dict()\n",
    "for i in range(1 , n + 1):\n",
    "    d[i] = i * i\n",
    "print(d)"
   ]
  },
  {
   "cell_type": "markdown",
   "id": "138c3396-8ea3-43ab-bd12-08a736f43697",
   "metadata": {},
   "source": [
    "#Bài 4: viết lệnh yêu cầu nhập các giá trị sau đó dùng quy tắc chuyển đổi kiểu dữ liệu để hoàn tất"
   ]
  },
  {
   "cell_type": "code",
   "execution_count": 9,
   "id": "a865c562-ea43-45bf-b649-3299fdd83fbd",
   "metadata": {},
   "outputs": [
    {
     "name": "stdin",
     "output_type": "stream",
     "text": [
      "nhập vào các giá trị: 34,67,55,33,12,98\n"
     ]
    },
    {
     "name": "stdout",
     "output_type": "stream",
     "text": [
      "['34', '67', '55', '33', '12', '98']\n",
      "('34', '67', '55', '33', '12', '98')\n"
     ]
    }
   ],
   "source": [
    "values = input('nhập vào các giá trị:')\n",
    "l = values.split(',')\n",
    "t = tuple(l)\n",
    "print(l)\n",
    "print(t)"
   ]
  },
  {
   "cell_type": "markdown",
   "id": "ab61e183-2699-4cb5-a2b8-29e6cce3b60f",
   "metadata": {},
   "source": [
    "#bài 5: sử dụng __init__ để xây dựng các tham số"
   ]
  },
  {
   "cell_type": "code",
   "execution_count": 12,
   "id": "262c5313-13fd-4f97-b1ae-de9c6eaefce2",
   "metadata": {},
   "outputs": [
    {
     "name": "stdin",
     "output_type": "stream",
     "text": [
      "nhập chuỗi: phùng khắc nhu\n"
     ]
    },
    {
     "name": "stdout",
     "output_type": "stream",
     "text": [
      "PHÙNG KHẮC NHU\n"
     ]
    }
   ],
   "source": [
    "class InputOutString(object):\n",
    "    def __init__(self):\n",
    "        self.s = ''\n",
    "    def getString(self):\n",
    "        self.s = input('nhập chuỗi:')\n",
    "    def printString(self):\n",
    "        print(self.s.upper())\n",
    "strObj = InputOutString()\n",
    "strObj.getString()\n",
    "strObj.printString()"
   ]
  },
  {
   "cell_type": "markdown",
   "id": "aa64177a-f94c-4ef5-b3e3-2e74763cdb00",
   "metadata": {},
   "source": [
    "#Bài 6: sử dụng toán tử **"
   ]
  },
  {
   "cell_type": "code",
   "execution_count": 13,
   "id": "9f463b94-ed53-4206-8c66-1ae7e4d95a77",
   "metadata": {},
   "outputs": [
    {
     "name": "stdin",
     "output_type": "stream",
     "text": [
      "nhập một số cần tính bình phương: 5\n"
     ]
    },
    {
     "name": "stdout",
     "output_type": "stream",
     "text": [
      "4\n",
      "9\n",
      "25\n"
     ]
    }
   ],
   "source": [
    "x = int(input('nhập một số cần tính bình phương:'))\n",
    "def square(num): # định nghĩa bình phương của một số\n",
    "    return num ** 2\n",
    "print(square(2))\n",
    "print(square(3))\n",
    "print(square(x))"
   ]
  },
  {
   "cell_type": "markdown",
   "id": "4f02a6d3-5583-4c0c-8590-c84153243907",
   "metadata": {},
   "source": [
    "#Bài 7: sử dụng __doc__ để đọc hướng dẫn"
   ]
  },
  {
   "cell_type": "code",
   "execution_count": 16,
   "id": "4ab2e637-20f6-4708-8e32-9369458712cc",
   "metadata": {},
   "outputs": [
    {
     "name": "stdout",
     "output_type": "stream",
     "text": [
      "Return the absolute value of the argument.\n",
      "int([x]) -> integer\n",
      "int(x, base=10) -> integer\n",
      "\n",
      "Convert a number or string to an integer, or return 0 if no arguments\n",
      "are given.  If x is a number, return x.__int__().  For floating point\n",
      "numbers, this truncates towards zero.\n",
      "\n",
      "If x is not a number or if base is given, then x must be a string,\n",
      "bytes, or bytearray instance representing an integer literal in the\n",
      "given base.  The literal can be preceded by '+' or '-' and be surrounded\n",
      "by whitespace.  The base defaults to 10.  Valid bases are 0 and 2-36.\n",
      "Base 0 means to interpret the base from the string as an integer literal.\n",
      ">>> int('0b100', base=0)\n",
      "4\n",
      "Forward raw_input to frontends\n",
      "\n",
      "        Raises\n",
      "        ------\n",
      "        StdinNotImplentedError if active frontend doesn't support stdin.\n",
      "        \n",
      "None\n"
     ]
    }
   ],
   "source": [
    "print(abs.__doc__)\n",
    "print(int.__doc__)\n",
    "print(input.__doc__)\n",
    "def square(num):\n",
    "    return num ** 2\n",
    "print(square.__doc__)"
   ]
  },
  {
   "cell_type": "raw",
   "id": "b07e5ee5-cf46-4e08-9705-6047e2417a0c",
   "metadata": {},
   "source": [
    "#Bài 8: Khi định nghĩa tham số instance, cần thêm vào __init__\n",
    "bạn có thể khởi tạo một đối tượng với tham số bắt đầu hoặc thiết lập giá trị sau đó"
   ]
  },
  {
   "cell_type": "code",
   "execution_count": 19,
   "id": "f6bc076b-9c92-4604-830b-d4f00fe46593",
   "metadata": {},
   "outputs": [
    {
     "name": "stdout",
     "output_type": "stream",
     "text": [
      "Person name is Jeffrey\n",
      "Person name is Nico\n"
     ]
    }
   ],
   "source": [
    "class Person:\n",
    "    name = 'Person' # định nghĩa lớp 'name'\n",
    "    def __init__(self,name = None):\n",
    "        self.name = name #self.name là biến instance\n",
    "jeffrey = Person('Jeffrey')\n",
    "print('%s name is %s' % (Person.name, jeffrey.name))\n",
    "nico = Person()\n",
    "nico.name = 'Nico'\n",
    "print('%s name is %s' % (Person.name,nico.name))"
   ]
  },
  {
   "cell_type": "markdown",
   "id": "6377b16f-a26d-447b-8c16-636ca7a770f0",
   "metadata": {},
   "source": [
    "#Bài 9: Nếu đầu ra nhận được là một số dạng thập phân bạn cần làm tròn thành giá trị gần nhất, ví dụ: 26.0 sẽ in là 26\n",
    "Trong trường hợp dữ liệu đầu vào được cung cấp cho câu hỏi, nó được giả định là đầu vào do người dùng nhập từ giao diện điều khiển"
   ]
  },
  {
   "cell_type": "code",
   "execution_count": 26,
   "id": "975cf806-ced8-4660-bddc-f721e8e4a593",
   "metadata": {},
   "outputs": [
    {
     "name": "stdin",
     "output_type": "stream",
     "text": [
      "nhap giá trị của d 100.5,150.5,180.5,200.5\n"
     ]
    },
    {
     "name": "stdout",
     "output_type": "stream",
     "text": [
      "18,22,25,26\n"
     ]
    }
   ],
   "source": [
    "import math\n",
    "c = 50\n",
    "h = 30\n",
    "value = []\n",
    "items = [x for x in input('nhap giá trị của d').split(',')]\n",
    "for d in items:\n",
    "    value.append(str(int(round(math.sqrt(2*c*float(d)/h)))))\n",
    "print(','.join(value))"
   ]
  },
  {
   "cell_type": "code",
   "execution_count": 25,
   "id": "ed010e59-d1c8-4cb7-a281-cf786afb0c28",
   "metadata": {},
   "outputs": [
    {
     "name": "stdin",
     "output_type": "stream",
     "text": [
      "nhập vào giá trị của d 100.5,150.5,180.5,200.5\n"
     ]
    },
    {
     "name": "stdout",
     "output_type": "stream",
     "text": [
      "18,22,25,26\n"
     ]
    }
   ],
   "source": [
    "import math\n",
    "c = 50\n",
    "h = 30\n",
    "value = []\n",
    "d = input('nhập vào giá trị của d')\n",
    "items = d.split(',')\n",
    "for d in items:\n",
    "    q = math.sqrt(2*c*float(d)/h)\n",
    "    value.append(str(int(round(q))))\n",
    "print(','.join(value))"
   ]
  },
  {
   "cell_type": "code",
   "execution_count": null,
   "id": "70fed7f2-25bf-4286-be27-107500884a28",
   "metadata": {},
   "outputs": [],
   "source": []
  },
  {
   "cell_type": "code",
   "execution_count": null,
   "id": "c102cc9d-b42f-4938-885c-59779508b586",
   "metadata": {},
   "outputs": [],
   "source": []
  },
  {
   "cell_type": "code",
   "execution_count": null,
   "id": "14f7d4d0-9ccc-4a2e-94c9-37f5f5138496",
   "metadata": {},
   "outputs": [],
   "source": []
  },
  {
   "cell_type": "code",
   "execution_count": null,
   "id": "d5e5f035-b9f9-4009-9926-dc458b42faa1",
   "metadata": {},
   "outputs": [],
   "source": []
  },
  {
   "cell_type": "code",
   "execution_count": null,
   "id": "4f46f464-2322-43d1-8767-0376145a2086",
   "metadata": {},
   "outputs": [],
   "source": []
  },
  {
   "cell_type": "code",
   "execution_count": null,
   "id": "a13ae886-7f52-4d4c-ab0f-3c33487ff72c",
   "metadata": {},
   "outputs": [],
   "source": []
  }
 ],
 "metadata": {
  "kernelspec": {
   "display_name": "Python 3",
   "language": "python",
   "name": "python3"
  },
  "language_info": {
   "codemirror_mode": {
    "name": "ipython",
    "version": 3
   },
   "file_extension": ".py",
   "mimetype": "text/x-python",
   "name": "python",
   "nbconvert_exporter": "python",
   "pygments_lexer": "ipython3",
   "version": "3.8.8"
  }
 },
 "nbformat": 4,
 "nbformat_minor": 5
}
